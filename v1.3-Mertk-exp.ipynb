{
 "cells": [
  {
   "cell_type": "code",
   "execution_count": null,
   "metadata": {},
   "outputs": [],
   "source": [
    "import scanpy as sc"
   ]
  },
  {
   "cell_type": "code",
   "execution_count": null,
   "metadata": {},
   "outputs": [],
   "source": [
    "microglia_adata = sc.read_h5ad(\"rds/microglia_adata.h5ad\")"
   ]
  },
  {
   "cell_type": "code",
   "execution_count": null,
   "metadata": {},
   "outputs": [],
   "source": [
    "\n",
    "# 按照 group 分组，比较 AD vs WT\n",
    "sc.tl.rank_genes_groups(\n",
    "    microglia_adata,\n",
    "    groupby='group',\n",
    "    reference='WT',       # 用 WT 作为对照\n",
    "    groups=['AD'],        # 要比较的组\n",
    "    method='wilcoxon'     # 非参数检验\n",
    ")\n",
    "\n",
    "# 从结果中取出 Mertk\n",
    "rg = microglia_adata.uns['rank_genes_groups']\n",
    "# 名称列表、pvals、logfoldchanges 都是按 rank 排序的 numpy 数组\n",
    "names = rg['names']['AD']\n",
    "pvals = rg['pvals']['AD']\n",
    "lfcs  = rg['logfoldchanges']['AD']\n",
    "\n",
    "# 找到 Mertk 的索引\n",
    "idx = list(names).index('Mertk')\n",
    "print(f\"Mertk vs WT: log2FC = {lfcs[idx]:.3f}, p-value = {pvals[idx]:.3e}\")\n"
   ]
  },
  {
   "cell_type": "code",
   "execution_count": null,
   "metadata": {},
   "outputs": [],
   "source": [
    "# 可视化结果\n",
    "sc.pl.rank_genes_groups_dotplot(\n",
    "\t\tmicroglia_adata,\n",
    "\t\tgroupby='group',\n",
    "\t\tvar_names=['Mertk'],\n",
    "\t\ttitle='Mertk Expression in AD vs WT',\n",
    "\t\tuse_raw=False,\n",
    "\t\tcmap='viridis',\n",
    "\t\tstandard_scale='var'\n",
    ")"
   ]
  },
  {
   "cell_type": "code",
   "execution_count": null,
   "metadata": {},
   "outputs": [],
   "source": [
    "# 做散点图/小提琴图\n",
    "sc.pl.rank_genes_groups_violin(\n",
    "\t\tmicroglia_adata,\n",
    "\t\tgene_names=['Mertk'],\n",
    "\t\tjitter=0.4,  # 添加抖动\n",
    "\t\tsplit=True,  # 按照 group 分组\n",
    "\t\tuse_raw=False\n",
    ")"
   ]
  },
  {
   "cell_type": "code",
   "execution_count": null,
   "metadata": {},
   "outputs": [],
   "source": [
    "sc.pl.violin(microglia_adata, [\"Mertk\"], groupby=\"group\")"
   ]
  },
  {
   "cell_type": "code",
   "execution_count": null,
   "metadata": {},
   "outputs": [],
   "source": [
    "# 将microglia_adata 's obs 中的 group 列转换为分类变量, meanwhile make WT before AD\n",
    "microglia_adata.obs['group'] = microglia_adata.obs['group'].astype('category')\n",
    "microglia_adata.obs['group'] = microglia_adata.obs['group'].cat.reorder_categories(['WT', 'AD'], ordered=True)\n"
   ]
  },
  {
   "cell_type": "code",
   "execution_count": null,
   "metadata": {},
   "outputs": [],
   "source": [
    "sc.pl.violin(microglia_adata, [\"Mertk\"], groupby=\"group\")"
   ]
  },
  {
   "cell_type": "code",
   "execution_count": null,
   "metadata": {},
   "outputs": [],
   "source": [
    "# 将图片保存为PDF\n",
    "sc.pl.violin(\n",
    "\t\tmicroglia_adata, \n",
    "\t\t[\"Mertk\"], \n",
    "\t\tgroupby=\"group\", \n",
    "\t\tsave=\"_mertk_violin.pdf\"\n",
    ")"
   ]
  },
  {
   "cell_type": "code",
   "execution_count": null,
   "metadata": {},
   "outputs": [],
   "source": [
    "# 比较AD vs WT的DEG，然后做富集分析\n",
    "sc.tl.rank_genes_groups(\n",
    "\t\tmicroglia_adata,\n",
    "\t\tgroupby='group',\n",
    "\t\treference='WT',       # 用 WT 作为对照\n",
    "\t\tgroups=['AD'],        # 要比较的组\n",
    "\t\tmethod='wilcoxon'     # 非参数检验\n",
    ")"
   ]
  },
  {
   "cell_type": "code",
   "execution_count": null,
   "metadata": {},
   "outputs": [],
   "source": [
    "# 获取差异基因结果\n",
    "de_genes = sc.get.rank_genes_groups_df(microglia_adata, group='AD', pval_cutoff= 0.2)\n",
    "# 保存差异基因结果到CSV\n",
    "de_genes.to_csv(\"mertk_ad_vs_wt_de_genes.csv\", index=False)"
   ]
  },
  {
   "cell_type": "code",
   "execution_count": null,
   "metadata": {},
   "outputs": [],
   "source": [
    "# ! pip install gprofiler-official"
   ]
  },
  {
   "cell_type": "code",
   "execution_count": null,
   "metadata": {},
   "outputs": [],
   "source": [
    "de_genes['names'].to_list()  # 获取基因名称列表"
   ]
  },
  {
   "cell_type": "code",
   "execution_count": null,
   "metadata": {},
   "outputs": [],
   "source": [
    "sc.queries.enrich(de_genes['names'].to_list(), org='mmusculus')"
   ]
  },
  {
   "cell_type": "code",
   "execution_count": null,
   "metadata": {},
   "outputs": [],
   "source": [
    "res_go = sc.queries.enrich(de_genes['names'].to_list(), org='mmusculus')"
   ]
  },
  {
   "cell_type": "code",
   "execution_count": null,
   "metadata": {},
   "outputs": [],
   "source": [
    "print(res_go.head())"
   ]
  },
  {
   "cell_type": "code",
   "execution_count": null,
   "metadata": {},
   "outputs": [],
   "source": [
    "import numpy as np\n",
    "import matplotlib.pyplot as plt\n",
    "import seaborn as sns"
   ]
  },
  {
   "cell_type": "code",
   "execution_count": null,
   "metadata": {},
   "outputs": [],
   "source": [
    "# 1. 数据预处理\n",
    "# 计算富集因子和-log10(p值)\n",
    "res_go['enrichment_factor'] = res_go['intersection_size'] / res_go['term_size']\n",
    "res_go['-log10(p)'] = -np.log10(res_go['p_value'])"
   ]
  },
  {
   "cell_type": "code",
   "execution_count": null,
   "metadata": {},
   "outputs": [],
   "source": [
    "# 创建简短的术语名称 (保留核心部分)\n",
    "res_go['term_short'] = res_go['name'].apply(\n",
    "    lambda x: x[:30] + '...' if len(x) > 33 else x\n",
    ")\n"
   ]
  },
  {
   "cell_type": "code",
   "execution_count": null,
   "metadata": {},
   "outputs": [],
   "source": [
    "res_go"
   ]
  },
  {
   "cell_type": "code",
   "execution_count": null,
   "metadata": {},
   "outputs": [],
   "source": [
    "# 去掉res_go last row\n",
    "res_go = res_go[:-1]"
   ]
  },
  {
   "cell_type": "code",
   "execution_count": null,
   "metadata": {},
   "outputs": [],
   "source": [
    "# 添加类别标签\n",
    "res_go['category'] = res_go['source'].map({\n",
    "    'GO:BP': 'Biological Process',\n",
    "    'GO:MF': 'Molecular Function',\n",
    "    'GO:CC': 'Cellular Component'\n",
    "})"
   ]
  },
  {
   "cell_type": "code",
   "execution_count": null,
   "metadata": {},
   "outputs": [],
   "source": [
    "res_go"
   ]
  },
  {
   "cell_type": "code",
   "execution_count": null,
   "metadata": {},
   "outputs": [],
   "source": [
    "# 筛选显著结果\n",
    "sig_go = res_go[res_go['significant']].sort_values('p_value')\n"
   ]
  },
  {
   "cell_type": "code",
   "execution_count": null,
   "metadata": {},
   "outputs": [],
   "source": [
    "# 2. 气泡图 - 最推荐的富集结果可视化方式\n",
    "plt.figure(figsize=(12, 10))\n",
    "\n",
    "# 创建气泡图\n",
    "scatter = plt.scatter(\n",
    "    x=sig_go['enrichment_factor'],\n",
    "    y=sig_go['term_short'],\n",
    "    s=sig_go['intersection_size'] * 20,  # 气泡大小表示重叠基因数量\n",
    "    c=sig_go['-log10(p)'],               # 颜色表示显著性\n",
    "    cmap='viridis',\n",
    "    alpha=0.8,\n",
    "    edgecolors='grey'\n",
    ")\n"
   ]
  },
  {
   "cell_type": "code",
   "execution_count": null,
   "metadata": {},
   "outputs": [],
   "source": [
    "# 3. 按类别分面条形图\n",
    "plt.figure(figsize=(14, 10))\n",
    "sns.set_theme(style=\"whitegrid\")\n",
    "\n",
    "# 创建分面图\n",
    "g = sns.FacetGrid(\n",
    "    sig_go,\n",
    "    col='category',\n",
    "    col_wrap=3,\n",
    "    height=6,\n",
    "    aspect=1.2,\n",
    "    sharey=False\n",
    ")\n",
    "\n",
    "# 绘制条形图\n",
    "g.map_dataframe(\n",
    "    sns.barplot,\n",
    "    x='enrichment_factor',\n",
    "    y='term_short',\n",
    "    palette='Blues_d',\n",
    "    order=sig_go.sort_values('enrichment_factor', ascending=False)['term_short']\n",
    ")\n",
    "\n",
    "# 设置标题和标签\n",
    "g.set_titles(\"{col_name}\", size=14)\n",
    "g.set_axis_labels(\"Enrichment Factor\", \"\")\n",
    "g.fig.subplots_adjust(top=0.9)\n",
    "g.fig.suptitle('GO Enrichment by Category', fontsize=16)"
   ]
  },
  {
   "cell_type": "code",
   "execution_count": null,
   "metadata": {},
   "outputs": [],
   "source": [
    "# 4. 富集网络图 (显示术语间关系)\n",
    "import networkx as nx\n",
    "\n",
    "plt.figure(figsize=(14, 12))\n",
    "\n",
    "# 创建图对象\n",
    "G = nx.Graph()\n",
    "\n",
    "# 添加节点 (GO术语)\n",
    "for _, row in sig_go.iterrows():\n",
    "    G.add_node(\n",
    "        row['term_short'],\n",
    "        size=row['intersection_size'] * 50,\n",
    "        color=row['-log10(p)'],\n",
    "        category=row['category']\n",
    "    )\n",
    "\n",
    "# 添加边 (基于父术语关系)\n",
    "for _, row in sig_go.iterrows():\n",
    "    if isinstance(row['parents'], list):\n",
    "        for parent in row['parents']:\n",
    "            parent_name = sig_go[sig_go['native'] == parent]['term_short']\n",
    "            if not parent_name.empty:\n",
    "                G.add_edge(row['term_short'], parent_name.values[0])\n",
    "\n",
    "# 设置节点颜色和大小\n",
    "node_colors = [G.nodes[n]['color'] for n in G.nodes]\n",
    "node_sizes = [G.nodes[n]['size'] for n in G.nodes]\n",
    "\n",
    "# 绘制网络\n",
    "pos = nx.spring_layout(G, k=0.5)\n",
    "nx.draw_networkx_nodes(\n",
    "    G, pos,\n",
    "    node_size=node_sizes,\n",
    "    node_color=node_colors,\n",
    "    cmap=plt.cm.plasma,\n",
    "    alpha=0.8\n",
    ")\n",
    "nx.draw_networkx_edges(G, pos, alpha=0.2)\n",
    "nx.draw_networkx_labels(G, pos, font_size=10)\n",
    "\n",
    "# 添加图例\n",
    "sm = plt.cm.ScalarMappable(cmap=plt.cm.plasma, \n",
    "                          norm=plt.Normalize(vmin=min(node_colors), \n",
    "                          vmax=max(node_colors)))\n",
    "sm.set_array([])\n",
    "cbar = plt.colorbar(sm, shrink=0.8)\n",
    "cbar.set_label('-log10(p-value)')\n",
    "\n",
    "plt.title('GO Term Relationships Network', fontsize=16)\n",
    "plt.axis('off')\n",
    "plt.tight_layout()\n",
    "plt.show()"
   ]
  },
  {
   "cell_type": "code",
   "execution_count": null,
   "metadata": {},
   "outputs": [],
   "source": [
    "sns.barplot(  # 将绘图对象赋值给ax变量以便后续调整\n",
    "    data=sig_go[sig_go['source']=='GO:BP'],\n",
    "    y='enrichment_factor',\n",
    "    x='term_short',   # 对调x和y轴\n",
    "    # hue='category',\n",
    "    dodge=False,\n",
    "    palette='Set2'\n",
    ")"
   ]
  },
  {
   "cell_type": "code",
   "execution_count": null,
   "metadata": {},
   "outputs": [],
   "source": [
    "import matplotlib.pyplot as plt\n",
    "import seaborn as sns\n",
    "\n",
    "# 绘制条形图\n",
    "plt.figure(figsize=(14, 8))\n",
    "ax = sns.barplot(  # 将绘图对象赋值给ax变量以便后续调整\n",
    "    data=sig_go[sig_go['source']=='GO:BP'],\n",
    "    y='enrichment_factor',\n",
    "    x='term_short',   # 对调x和y轴\n",
    "  \t# hue='category',\n",
    "    dodge=False,\n",
    "    palette='Set2'\n",
    ")\n",
    "\n",
    "# 设置布局和标签\n",
    "plt.xlabel('Enrichment Factor', fontsize=12)\n",
    "plt.ylabel('GO Terms', fontsize=12)\n",
    "plt.title('GO Enrichment Analysis', fontsize=14)\n",
    "plt.legend(title='Category', loc='best')  # 自动选择图例位置\n",
    "\n",
    "# 增加可读性优化\n",
    "ax.tick_params(axis='y', labelsize=7)  # 调整Y轴字体大小\n",
    "ax.grid(axis='x', linestyle='--', alpha=0.7)  # 添加横向网格线\n",
    "\n",
    "# 将X/Y轴互换 + 水平条形图\n",
    "# sns.barplot(data=sig_go, y='enrichment_factor', x='term_short')\n",
    "plt.xticks(rotation=45, ha='right')  # 旋转X轴标签\n",
    "\n",
    "# 关键步骤：调整布局并保存为PDF\n",
    "plt.tight_layout()  # 自动调整子图参数避免重叠\n",
    "plt.savefig('micro_deg_go_enrichment.pdf', format='pdf', bbox_inches='tight', dpi=600)  # bbox_inches确保内容完整\n"
   ]
  },
  {
   "cell_type": "code",
   "execution_count": null,
   "metadata": {},
   "outputs": [],
   "source": []
  }
 ],
 "metadata": {
  "kernelspec": {
   "display_name": "pan-stroke",
   "language": "python",
   "name": "python3"
  },
  "language_info": {
   "codemirror_mode": {
    "name": "ipython",
    "version": 3
   },
   "file_extension": ".py",
   "mimetype": "text/x-python",
   "name": "python",
   "nbconvert_exporter": "python",
   "pygments_lexer": "ipython3",
   "version": "3.12.8"
  }
 },
 "nbformat": 4,
 "nbformat_minor": 2
}
