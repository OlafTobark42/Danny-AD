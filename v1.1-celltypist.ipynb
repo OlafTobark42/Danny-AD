{
 "cells": [
  {
   "cell_type": "code",
   "execution_count": null,
   "metadata": {},
   "outputs": [],
   "source": [
    "import scanpy as sc\n",
    "from pathlib import Path\n",
    "\n",
    "# 1. 根目录\n",
    "DATA_DIR = Path(\"/Users/zacchan/Downloads/GSE261596_RAW/rawdata\")\n",
    "\n",
    "# 2. 找到所有子目录（6m_AD_rep1 等），保持字母顺序方便复现\n",
    "sample_dirs = sorted([p for p in DATA_DIR.iterdir() if p.is_dir()])\n",
    "\n",
    "print(f\"✔️  检测到 {len(sample_dirs)} 个样本： {[p.name for p in sample_dirs]}\")\n",
    "\n",
    "# 3. 逐个读取 10x MTX，并记录样本名\n",
    "adatas = []\n",
    "for p in sample_dirs:\n",
    "    ad = sc.read_10x_mtx(p, var_names=\"gene_symbols\", cache=True)  # 读取 gz 压缩的 mtx\n",
    "    ad.var_names_make_unique()                                     # 同名基因自动加后缀防冲突\n",
    "    ad.obs[\"sample\"] = p.name                                      # 在 obs 新增“sample”列\n",
    "    adatas.append(ad)\n",
    "\n",
    "# 4. 合并（根据 obs[\"sample\"] 自动分组，也可手动传递 batch_categories）\n",
    "adata = adatas[0].concatenate(\n",
    "    *adatas[1:],                      # 其余样本\n",
    "    batch_key=\"sample\",               # 新列：样本标签\n",
    "    batch_categories=[a.obs['sample'][0] for a in adatas]  # 保持原始顺序\n",
    ")\n",
    "\n",
    "# 5. 确认\n",
    "print(adata)           # 查看维度\n",
    "adata.obs[\"sample\"] = adata.obs[\"sample\"].astype(\"category\")\n",
    "adata.obs[\"sample\"].cat.categories\n"
   ]
  },
  {
   "cell_type": "code",
   "execution_count": null,
   "metadata": {},
   "outputs": [],
   "source": [
    "adata.write_h5ad(\n",
    "\t\tDATA_DIR / \"GSE261596.h5ad\",  # 保存到根目录\n",
    "\t\tcompression=\"gzip\"             # 压缩保存\n",
    ")"
   ]
  },
  {
   "cell_type": "code",
   "execution_count": null,
   "metadata": {},
   "outputs": [],
   "source": [
    "import scanpy as sc\n",
    "\n",
    "# 1. 提取 6 个月样本（样本名中包含 \"6m\"）\n",
    "adata_6m = adata[adata.obs[\"sample\"].str.contains(\"6m\")].copy()\n",
    "print(f\"✔️ 提取 6 个月样本，共 {adata_6m.n_obs} 个细胞，{adata_6m.n_vars} 个基因\")\n",
    "\n",
    "# 2. 标准流程\n",
    "sc.pp.filter_cells(adata_6m, min_genes=200)\n",
    "sc.pp.filter_genes(adata_6m, min_cells=3)\n",
    "adata_6m.var[\"mt\"] = adata_6m.var_names.str.startswith(\"mt-\")  # 线粒体基因（小鼠）\n",
    "\n",
    "sc.pp.calculate_qc_metrics(adata_6m, qc_vars=[\"mt\"], inplace=True)\n",
    "\n",
    "# 可选质控筛选\n",
    "adata_6m = adata_6m[adata_6m.obs[\"pct_counts_mt\"] < 10].copy()\n",
    "\n",
    "# 3. 预处理\n",
    "sc.pp.normalize_total(adata_6m, target_sum=1e4)\n",
    "sc.pp.log1p(adata_6m)\n",
    "sc.pp.highly_variable_genes(adata_6m, min_mean=0.0125, max_mean=3, min_disp=0.5)\n",
    "\n",
    "adata_6m = adata_6m[:, adata_6m.var.highly_variable]  # 只保留高变基因\n",
    "sc.pp.scale(adata_6m, max_value=10)\n",
    "sc.tl.pca(adata_6m, svd_solver='arpack')\n",
    "\n",
    "# 4. 聚类 + 可视化\n",
    "sc.pp.neighbors(adata_6m, n_neighbors=10, n_pcs=40)\n",
    "sc.tl.umap(adata_6m)\n",
    "sc.tl.leiden(adata_6m, resolution=0.5)\n",
    "\n",
    "# 5. 画图\n",
    "sc.pl.umap(adata_6m, color=[\"leiden\", \"sample\"], wspace=0.4)\n"
   ]
  },
  {
   "cell_type": "code",
   "execution_count": null,
   "metadata": {},
   "outputs": [],
   "source": [
    "# save adata_6m to h5ad\n",
    "save_path = DATA_DIR / \"adata_6m.h5ad\"\n",
    "adata_6m.write_h5ad(save_path, compression=\"gzip\")  # 压缩保存\n",
    "print(f\"✔️ 6 个月样本已保存到 {save_path}\")\n"
   ]
  },
  {
   "cell_type": "code",
   "execution_count": null,
   "metadata": {},
   "outputs": [],
   "source": [
    "import celltypist\n",
    "import scanpy as sc\n",
    "from celltypist import models\n",
    "\n",
    "\n"
   ]
  },
  {
   "cell_type": "code",
   "execution_count": null,
   "metadata": {},
   "outputs": [],
   "source": [
    "models.download_models(force_update = True)\n",
    "models.models_description()"
   ]
  },
  {
   "cell_type": "code",
   "execution_count": null,
   "metadata": {},
   "outputs": [],
   "source": [
    "# Indeed, the `model` argument defaults to `Immune_All_Low.pkl`.\n",
    "model = models.Model.load(model = 'Mouse_Whole_Brain.pkl')"
   ]
  },
  {
   "cell_type": "code",
   "execution_count": null,
   "metadata": {},
   "outputs": [],
   "source": [
    "model.cell_types"
   ]
  },
  {
   "cell_type": "code",
   "execution_count": null,
   "metadata": {},
   "outputs": [],
   "source": [
    "# 需要标准化\n",
    "sc.pp.log1p(adata_6m)\n",
    "sc.pp.normalize_total(adata_6m, target_sum=1e4)"
   ]
  },
  {
   "cell_type": "code",
   "execution_count": null,
   "metadata": {},
   "outputs": [],
   "source": [
    "#  先进行log1p转换，再normalize\n",
    "import scanpy as sc\n",
    "import numpy as np\n",
    "\n",
    "# 备份原始数据\n",
    "adata_copy = adata_6m.copy()\n",
    "\n",
    "# 1. 先做log1p\n",
    "sc.pp.log1p(adata_copy)\n",
    "\n",
    "# 2. 再normalize\n",
    "sc.pp.normalize_total(adata_copy)\n",
    "\n",
    "# 检查结果\n",
    "print(f\"有NaN: {np.isnan(adata_copy.X).sum()}\")"
   ]
  },
  {
   "cell_type": "code",
   "execution_count": null,
   "metadata": {},
   "outputs": [],
   "source": [
    "sc.pp.normalize_total(adata, target_sum=1e4)\n",
    "sc.pp.log1p(adata)\n",
    "# 备份原始数据\n",
    "adata_copy = adata.copy()"
   ]
  },
  {
   "cell_type": "code",
   "execution_count": null,
   "metadata": {},
   "outputs": [],
   "source": [
    "# -----------------------------------------------------------\n",
    "# 1️⃣  CellTypist 自动标注\n",
    "# -----------------------------------------------------------\n",
    "predictions1 = celltypist.annotate(adata, model = 'Mouse_Whole_Brain.pkl', majority_voting = True)"
   ]
  },
  {
   "cell_type": "code",
   "execution_count": null,
   "metadata": {},
   "outputs": [],
   "source": [
    "predictions1.predicted_labels"
   ]
  },
  {
   "cell_type": "code",
   "execution_count": null,
   "metadata": {},
   "outputs": [],
   "source": [
    "result_model1 = predictions1.predicted_labels[['predicted_labels','majority_voting']].rename(columns={'predicted_labels': 'pre1', 'majority_voting': 'pre1_mv'})"
   ]
  },
  {
   "cell_type": "code",
   "execution_count": null,
   "metadata": {},
   "outputs": [],
   "source": [
    "adata.obs = adata.obs.join(result_model1, how='left')"
   ]
  },
  {
   "cell_type": "code",
   "execution_count": null,
   "metadata": {},
   "outputs": [],
   "source": [
    "adata.obs"
   ]
  },
  {
   "cell_type": "code",
   "execution_count": null,
   "metadata": {},
   "outputs": [],
   "source": [
    "adata.write_h5ad(\n",
    "\t\tDATA_DIR / \"adata_celltypist.h5ad\",  # 保存到根目录\n",
    "\t\tcompression=\"gzip\"                     # 压缩保存\n",
    ")"
   ]
  },
  {
   "cell_type": "code",
   "execution_count": null,
   "metadata": {},
   "outputs": [],
   "source": [
    "\n",
    "# -----------------------------------------------------------\n",
    "# 2️⃣  提取小胶质细胞并重聚类\n",
    "# -----------------------------------------------------------\n",
    "micro = adata_6m[adata_6m.obs['cell_type'].str.contains('Microglia'), :].copy()\n",
    "print(f\"✔️  提取到 {micro.n_obs} 个小胶质细胞\")\n",
    "\n",
    "# —— 常规预处理（只对 micro 再来一次）——\n",
    "sc.pp.highly_variable_genes(micro, min_mean=0.0125, max_mean=3, min_disp=0.5)\n",
    "micro = micro[:, micro.var.highly_variable]\n",
    "sc.pp.scale(micro, max_value=10)\n",
    "sc.tl.pca(micro, svd_solver='arpack')\n",
    "\n",
    "sc.pp.neighbors(micro, n_neighbors=10, n_pcs=30)\n",
    "sc.tl.umap(micro)\n",
    "sc.tl.leiden(micro, resolution=0.6)\n",
    "\n",
    "# 可视化\n",
    "sc.pl.umap(micro, color=['leiden', 'sample'], wspace=0.4)\n",
    "\n",
    "# -----------------------------------------------------------\n",
    "# 3️⃣  构建 AD / WT 分组标签\n",
    "# -----------------------------------------------------------\n",
    "def map_group(sample):\n",
    "    return 'AD' if '_AD_' in sample else 'WT'\n",
    "\n",
    "micro.obs['group'] = micro.obs['sample'].map(map_group).astype('category')\n",
    "print(micro.obs['group'].value_counts())\n",
    "\n",
    "# -----------------------------------------------------------\n",
    "# 4️⃣  全局 AD vs WT 差异表达（所有小胶质细胞）\n",
    "# -----------------------------------------------------------\n",
    "sc.tl.rank_genes_groups(\n",
    "    micro, \n",
    "    groupby='group', \n",
    "    groups=['AD'], \n",
    "    reference='WT', \n",
    "    method='wilcoxon', \n",
    "    key_added='DE_all_micro'\n",
    ")\n",
    "sc.pl.rank_genes_groups(micro, key='DE_all_micro', n_genes=20, sharey=False)\n",
    "\n",
    "# -----------------------------------------------------------\n",
    "# 5️⃣  每个小胶质亚群内的 AD vs WT\n",
    "# -----------------------------------------------------------\n",
    "for cl in micro.obs['leiden'].cat.categories:\n",
    "    key = f'DE_micro_cl{cl}'\n",
    "    sc.tl.rank_genes_groups(\n",
    "        micro[micro.obs['leiden'] == cl], \n",
    "        groupby='group',\n",
    "        groups=['AD'], \n",
    "        reference='WT', \n",
    "        method='wilcoxon',\n",
    "        key_added=key\n",
    "    )\n",
    "    sc.pl.rank_genes_groups(\n",
    "        micro[micro.obs['leiden'] == cl], \n",
    "        key=key, \n",
    "        n_genes=15, \n",
    "        title=f'Cluster {cl}  AD vs WT',\n",
    "        sharey=False\n",
    "    )\n",
    "\n",
    "# -----------------------------------------------------------\n",
    "# 6️⃣  导出差异基因表（可选）\n",
    "# -----------------------------------------------------------\n",
    "# 示例：导出全局差异基因 top 50\n",
    "de_all = sc.get.rank_genes_groups_df(micro, key='DE_all_micro', n_genes=50)\n",
    "de_all.to_csv('DE_micro_AD_vs_WT_top50.csv', index=False)\n",
    "print(\"📑 已保存差异基因表：DE_micro_AD_vs_WT_top50.csv\")"
   ]
  }
 ],
 "metadata": {
  "kernelspec": {
   "display_name": "pan-stroke",
   "language": "python",
   "name": "python3"
  },
  "language_info": {
   "codemirror_mode": {
    "name": "ipython",
    "version": 3
   },
   "file_extension": ".py",
   "mimetype": "text/x-python",
   "name": "python",
   "nbconvert_exporter": "python",
   "pygments_lexer": "ipython3",
   "version": "3.12.8"
  }
 },
 "nbformat": 4,
 "nbformat_minor": 2
}
