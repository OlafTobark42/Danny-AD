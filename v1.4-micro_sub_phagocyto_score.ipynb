{
 "cells": [
  {
   "cell_type": "code",
   "execution_count": 1,
   "metadata": {},
   "outputs": [],
   "source": [
    "import scanpy as sc"
   ]
  },
  {
   "cell_type": "code",
   "execution_count": 2,
   "metadata": {},
   "outputs": [],
   "source": [
    "microglia_adata = sc.read_h5ad('rds/microglia_adata.h5ad')"
   ]
  },
  {
   "cell_type": "code",
   "execution_count": 3,
   "metadata": {},
   "outputs": [],
   "source": [
    "# 将microglia_adata 's obs 中的 group 列转换为分类变量, meanwhile make WT before AD\n",
    "microglia_adata.obs['group'] = microglia_adata.obs['group'].astype('category')\n",
    "microglia_adata.obs['group'] = microglia_adata.obs['group'].cat.reorder_categories(['WT', 'AD'], ordered=True)\n"
   ]
  },
  {
   "cell_type": "code",
   "execution_count": 4,
   "metadata": {},
   "outputs": [
    {
     "data": {
      "text/plain": [
       "<bound method IndexOpsMixin.value_counts of AAAGAACTCTCAATCT-1-6m_AD_rep1    AD\n",
       "AAAGTCCAGGATACGC-1-6m_AD_rep1    AD\n",
       "AAAGTCCAGTAGACAT-1-6m_AD_rep1    AD\n",
       "AAAGTCCGTTAGCGGA-1-6m_AD_rep1    AD\n",
       "AACACACAGACCGCCT-1-6m_AD_rep1    AD\n",
       "                                 ..\n",
       "TTGGGTACATTAGGCT-1-6m_WT_rep3    WT\n",
       "TTGTTGTGTCGAGATG-1-6m_WT_rep3    WT\n",
       "TTTATGCGTGGATTTC-1-6m_WT_rep3    WT\n",
       "TTTGATCGTACTTCCC-1-6m_WT_rep3    WT\n",
       "TTTGTTGAGAATCGAT-1-6m_WT_rep3    WT\n",
       "Name: group, Length: 853, dtype: category\n",
       "Categories (2, object): ['WT' < 'AD']>"
      ]
     },
     "execution_count": 4,
     "metadata": {},
     "output_type": "execute_result"
    }
   ],
   "source": [
    "microglia_adata.obs['group'].value_counts"
   ]
  },
  {
   "cell_type": "code",
   "execution_count": 8,
   "metadata": {},
   "outputs": [
    {
     "name": "stdout",
     "output_type": "stream",
     "text": [
      "Phagocytosis Score Summary:\n",
      "  group      mean       std\n",
      "0    WT  0.787644  2.310813\n",
      "1    AD  1.059726  2.335926\n",
      "Phagocytosis Score p-value:\n",
      "0.08773771543425204\n"
     ]
    },
    {
     "name": "stderr",
     "output_type": "stream",
     "text": [
      "/var/folders/00/qm2jk48x1pqbpczsl64nsn1m0000gp/T/ipykernel_3092/2157221643.py:6: FutureWarning: The default of observed=False is deprecated and will be changed to True in a future version of pandas. Pass observed=False to retain current behavior or observed=True to adopt the future default and silence this warning.\n",
      "  phagocytosis_score_summary = microglia_adata.obs.groupby('group')['phagocytosis_score'].agg(['mean', 'std']).reset_index()\n"
     ]
    }
   ],
   "source": [
    "# 对group中的WT和AD，分别计算吞噬评分，然后比较高低和p值。小鼠基因\n",
    "gene_list = ['C1qa', 'C1qb', 'C1qc', 'C3', 'C3ar1', 'Csf1r', 'Trem2']\n",
    "gene_list = [gene for gene in gene_list if gene in microglia_adata.var_names]\n",
    "sc.tl.score_genes(microglia_adata, gene_list=gene_list, score_name='phagocytosis_score')\n",
    "# 计算group中WT和AD的phagocytosis_score的均值和标准差\n",
    "phagocytosis_score_summary = microglia_adata.obs.groupby('group')['phagocytosis_score'].agg(['mean', 'std']).reset_index()\n",
    "# 计算group中WT和AD的phagocytosis_score的p值，使用独立样本t检验\n",
    "import scipy.stats as stats\n",
    "scores_WT = microglia_adata.obs.loc[microglia_adata.obs['group'] == 'WT', 'phagocytosis_score']\n",
    "scores_AD = microglia_adata.obs.loc[microglia_adata.obs['group'] == 'AD', 'phagocytosis_score']\n",
    "t_stat, phagocytosis_p_value = stats.ttest_ind(scores_WT, scores_AD, nan_policy='omit')\n",
    "# 打印结果\n",
    "print(\"Phagocytosis Score Summary:\")\n",
    "print(phagocytosis_score_summary)\n",
    "# 打印p值\n",
    "print(\"Phagocytosis Score p-value:\")\n",
    "print(phagocytosis_p_value)\n",
    "\n"
   ]
  },
  {
   "cell_type": "code",
   "execution_count": 10,
   "metadata": {},
   "outputs": [],
   "source": [
    "import os\n",
    "# 保存结果\n",
    "results_dir = 'results'\n",
    "os.makedirs(results_dir, exist_ok=True)\n",
    "phagocytosis_score_summary.to_csv(os.path.join(results_dir, 'phagocytosis_score_summary.csv'), index=False)"
   ]
  }
 ],
 "metadata": {
  "kernelspec": {
   "display_name": "pan-stroke",
   "language": "python",
   "name": "python3"
  },
  "language_info": {
   "codemirror_mode": {
    "name": "ipython",
    "version": 3
   },
   "file_extension": ".py",
   "mimetype": "text/x-python",
   "name": "python",
   "nbconvert_exporter": "python",
   "pygments_lexer": "ipython3",
   "version": "3.12.8"
  }
 },
 "nbformat": 4,
 "nbformat_minor": 2
}
