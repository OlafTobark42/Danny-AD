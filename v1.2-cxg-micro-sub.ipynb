{
 "cells": [
  {
   "cell_type": "code",
   "execution_count": null,
   "metadata": {},
   "outputs": [],
   "source": [
    "import scanpy as sc"
   ]
  },
  {
   "cell_type": "code",
   "execution_count": null,
   "metadata": {},
   "outputs": [],
   "source": [
    "# 导入h5ad\n",
    "adata = sc.read_h5ad('rds/adata_6m.h5ad')"
   ]
  },
  {
   "cell_type": "code",
   "execution_count": null,
   "metadata": {},
   "outputs": [],
   "source": [
    "adata.obs"
   ]
  },
  {
   "cell_type": "code",
   "execution_count": null,
   "metadata": {},
   "outputs": [],
   "source": [
    "# 导入CellxGene手工勾画的Microglia的CSV\n",
    "import pandas as pd\n",
    "microglia_df = pd.read_csv('rds/danny-cell-labels-XYSFV6QU.csv')\n",
    "microglia_df"
   ]
  },
  {
   "cell_type": "code",
   "execution_count": null,
   "metadata": {},
   "outputs": [],
   "source": [
    "# 去掉首行，然后第一行作为列名\n",
    "microglia_df = microglia_df.iloc[1:]\n",
    "microglia_df.columns = microglia_df.iloc[0]\n",
    "microglia_df = microglia_df[1:]"
   ]
  },
  {
   "cell_type": "code",
   "execution_count": null,
   "metadata": {},
   "outputs": [],
   "source": [
    "microglia_df"
   ]
  },
  {
   "cell_type": "code",
   "execution_count": null,
   "metadata": {},
   "outputs": [],
   "source": [
    "adata.obs['celltype'] = microglia_df['celltype']"
   ]
  },
  {
   "cell_type": "code",
   "execution_count": null,
   "metadata": {},
   "outputs": [],
   "source": [
    "# 检查添加的celltype信息\n",
    "adata.obs['celltype'].value_counts()\n"
   ]
  },
  {
   "cell_type": "code",
   "execution_count": null,
   "metadata": {},
   "outputs": [],
   "source": [
    "# save\n",
    "adata.write_h5ad('rds/adata_6m_with_celltype.h5ad')"
   ]
  },
  {
   "cell_type": "code",
   "execution_count": null,
   "metadata": {},
   "outputs": [],
   "source": [
    "# extract microglia\n",
    "microglia_adata = adata[adata.obs['celltype'] == 'microglia'].copy()"
   ]
  },
  {
   "cell_type": "code",
   "execution_count": null,
   "metadata": {},
   "outputs": [],
   "source": [
    "microglia_adata.obs"
   ]
  },
  {
   "cell_type": "code",
   "execution_count": null,
   "metadata": {},
   "outputs": [],
   "source": [
    "# according to micro sub sample column to divide into AD and WT two groups, if contain AD, then it is AD group\n",
    "microglia_adata.obs['group'] = microglia_adata.obs['sample'].apply(lambda x: 'AD' if 'AD' in x else 'WT')\n",
    "# check the group distribution\n",
    "microglia_adata.obs['group'].value_counts()\n"
   ]
  },
  {
   "cell_type": "code",
   "execution_count": null,
   "metadata": {},
   "outputs": [],
   "source": [
    "# save micro sub\n",
    "microglia_adata.write_h5ad('rds/microglia_adata.h5ad')"
   ]
  },
  {
   "cell_type": "code",
   "execution_count": null,
   "metadata": {},
   "outputs": [],
   "source": [
    "microglia_adata.var\n"
   ]
  },
  {
   "cell_type": "code",
   "execution_count": null,
   "metadata": {},
   "outputs": [],
   "source": [
    "# check microglia_adata have how many genes \n",
    "microglia_adata.shape\n",
    "# check if Mertk in microglia_adata's var_names\n",
    "'Mertk' in microglia_adata.var_names"
   ]
  }
 ],
 "metadata": {
  "kernelspec": {
   "display_name": "pan-stroke",
   "language": "python",
   "name": "python3"
  },
  "language_info": {
   "codemirror_mode": {
    "name": "ipython",
    "version": 3
   },
   "file_extension": ".py",
   "mimetype": "text/x-python",
   "name": "python",
   "nbconvert_exporter": "python",
   "pygments_lexer": "ipython3",
   "version": "3.12.8"
  }
 },
 "nbformat": 4,
 "nbformat_minor": 2
}
